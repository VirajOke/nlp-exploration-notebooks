{
  "cells": [
    {
      "cell_type": "code",
      "execution_count": 1,
      "metadata": {
        "colab": {
          "base_uri": "https://localhost:8080/"
        },
        "id": "kcsR31sa9py6",
        "outputId": "0d6ff445-509a-40d7-9190-c7537b4212bf"
      },
      "outputs": [
        {
          "output_type": "stream",
          "name": "stdout",
          "text": [
            "Looking in indexes: https://pypi.org/simple, https://us-python.pkg.dev/colab-wheels/public/simple/\n",
            "Collecting python-docx\n",
            "  Downloading python-docx-0.8.11.tar.gz (5.6 MB)\n",
            "\u001b[K     |████████████████████████████████| 5.6 MB 5.3 MB/s \n",
            "\u001b[?25hRequirement already satisfied: lxml>=2.3.2 in /usr/local/lib/python3.7/dist-packages (from python-docx) (4.2.6)\n",
            "Building wheels for collected packages: python-docx\n",
            "  Building wheel for python-docx (setup.py) ... \u001b[?25l\u001b[?25hdone\n",
            "  Created wheel for python-docx: filename=python_docx-0.8.11-py3-none-any.whl size=184507 sha256=83715b60f7d59e5ea4590b5c4ed831d1893bf913825cb29068b1bc197736b26c\n",
            "  Stored in directory: /root/.cache/pip/wheels/f6/6f/b9/d798122a8b55b74ad30b5f52b01482169b445fbb84a11797a6\n",
            "Successfully built python-docx\n",
            "Installing collected packages: python-docx\n",
            "Successfully installed python-docx-0.8.11\n"
          ]
        }
      ],
      "source": [
        "pip install python-docx "
      ]
    },
    {
      "cell_type": "code",
      "execution_count": 2,
      "metadata": {
        "colab": {
          "base_uri": "https://localhost:8080/"
        },
        "id": "1l_YNiPBuNeE",
        "outputId": "965c9d72-3cbc-4047-bf4c-c7df6fc1bfbd"
      },
      "outputs": [
        {
          "output_type": "stream",
          "name": "stdout",
          "text": [
            "Looking in indexes: https://pypi.org/simple, https://us-python.pkg.dev/colab-wheels/public/simple/\n",
            "Collecting pyPDF2\n",
            "  Downloading PyPDF2-2.5.0-py3-none-any.whl (200 kB)\n",
            "\u001b[K     |████████████████████████████████| 200 kB 5.6 MB/s \n",
            "\u001b[?25hRequirement already satisfied: typing-extensions in /usr/local/lib/python3.7/dist-packages (from pyPDF2) (4.1.1)\n",
            "Installing collected packages: pyPDF2\n",
            "Successfully installed pyPDF2-2.5.0\n"
          ]
        }
      ],
      "source": [
        "pip install pyPDF2"
      ]
    },
    {
      "cell_type": "code",
      "execution_count": 3,
      "metadata": {
        "colab": {
          "base_uri": "https://localhost:8080/"
        },
        "id": "c1z56CIFLIGO",
        "outputId": "b601e4fe-f118-4266-fff0-718101bee076"
      },
      "outputs": [
        {
          "output_type": "stream",
          "name": "stdout",
          "text": [
            "Looking in indexes: https://pypi.org/simple, https://us-python.pkg.dev/colab-wheels/public/simple/\n",
            "Collecting html2text\n",
            "  Downloading html2text-2020.1.16-py3-none-any.whl (32 kB)\n",
            "Installing collected packages: html2text\n",
            "Successfully installed html2text-2020.1.16\n"
          ]
        }
      ],
      "source": [
        "pip install html2text"
      ]
    },
    {
      "cell_type": "markdown",
      "metadata": {
        "id": "1tSkw0D0Y72C"
      },
      "source": [
        "###Just imported some packages that are used for ETL"
      ]
    },
    {
      "cell_type": "code",
      "execution_count": 85,
      "metadata": {
        "id": "6P3DaVAhleLR"
      },
      "outputs": [],
      "source": [
        "import pandas as pd\n",
        "import numpy as np\n",
        "import pathlib\n",
        "import os\n",
        "import re\n",
        "import glob \n",
        "import docx\n",
        "from docx import Document\n",
        "import PyPDF2\n",
        "from PyPDF2 import PdfReader\n",
        "import html2text\n",
        "from bs4 import BeautifulSoup\n",
        "import pickle"
      ]
    },
    {
      "cell_type": "markdown",
      "metadata": {
        "id": "cDWMcxzoZSyq"
      },
      "source": [
        "*auto_load* functionalities:\n",
        "1.   Accepts the input folder path.\n",
        "2.   A For loop feeds in different data extensions ['/*.doc*','/*.pdf','/*.html','/*.txt']\n",
        "3.   Glob fetches the files and appends them into the *input_files* list.\n",
        "4.   *input_files* list contains the paths of all the detected files.\n",
        "\n"
      ]
    },
    {
      "cell_type": "code",
      "execution_count": 5,
      "metadata": {
        "id": "huAxiBITSMkw"
      },
      "outputs": [],
      "source": [
        "def auto_load(folder_path):\n",
        "    input_files = []\n",
        "    data_types = ['/*.doc*','/*.pdf','/*.html','/*.txt']\n",
        "    for i in data_types:\n",
        "        temp_input_files = glob.glob(folder_path+str(i))\n",
        "        input_files.extend(temp_input_files)\n",
        "    return input_files"
      ]
    },
    {
      "cell_type": "markdown",
      "source": [
        "Explanation\n",
        "\n",
        "1.   The first \"for loop will\" itrate the file paths\n",
        "2.   \"If condition\" checks the file extensions.\n",
        "3.   In the if blocks, the predefined functions transforms \n",
        "     the data types to text format.\n",
        "4.   All the files are then appended in a dict where \n",
        "\"keys\" stores the file names and \"values\" stores the respective text data.\n",
        "\n"
      ],
      "metadata": {
        "id": "ppjOeAc_q8VS"
      }
    },
    {
      "cell_type": "code",
      "execution_count": 84,
      "metadata": {
        "id": "Rjw6sTZ128wH"
      },
      "outputs": [],
      "source": [
        "def doc_to_text(file_path):\n",
        "    main_doc_list = []\n",
        "    text_1= ''\n",
        "    out_dict= {}\n",
        "    for doc in file_path:\n",
        "        file_extension = pathlib.Path(doc).suffix\n",
        "        filename = os.path.basename(doc)\n",
        "        if file_extension == '.docx':\n",
        "            word_doc = docx.Document(doc) \n",
        "            for words in word_doc.paragraphs:\n",
        "                text_1 += words.text \n",
        "            main_doc_list.append(text_1)\n",
        "            text_1= ''\n",
        "            for document_no in enumerate(main_doc_list):\n",
        "                out_dict.update({filename:main_doc_list[document_no[0]]})\n",
        "\n",
        "        if file_extension == '.pdf':\n",
        "            reader = PdfReader(doc)\n",
        "            number_of_pages = len(reader.pages)\n",
        "            for page_no in range(number_of_pages):\n",
        "                page = reader.pages[page_no]\n",
        "                text_1 += page.extract_text()\n",
        "            main_doc_list.append(text_1)\n",
        "            text_1= ''\n",
        "            for document_no in enumerate(main_doc_list):\n",
        "                out_dict.update({filename:main_doc_list[document_no[0]]})\n",
        " \n",
        "        if file_extension == '.html':\n",
        "            file_handle = open(doc, 'r')\n",
        "            h = html2text.HTML2Text()\n",
        "            h.igonre_links= True\n",
        "            html_data = file_handle.read()\n",
        "            text_1 = h.handle(html_data)\n",
        "            main_doc_list.append(text_1)\n",
        "            for document_no in enumerate(main_doc_list):\n",
        "                out_dict.update({filename:main_doc_list[document_no[0]]})\n",
        "\n",
        "        if file_extension == '.txt':\n",
        "            text_text = open(doc, 'r')\n",
        "            text_1 = text_text.read() \n",
        "            main_doc_list.append(text_1)\n",
        "            for document_no in enumerate(main_doc_list):\n",
        "                out_dict.update({filename:main_doc_list[document_no[0]]})    \n",
        "\n",
        "    return out_dict"
      ]
    },
    {
      "cell_type": "markdown",
      "source": [
        "*main_func_call()* will call the *auto_load()*, store the paths in **input_f** that are called in *doc_to_text()* which transforms the files and returns the final dict of textual data.\n"
      ],
      "metadata": {
        "id": "K3kIjUk3oAWv"
      }
    },
    {
      "cell_type": "code",
      "execution_count": 7,
      "metadata": {
        "id": "8-Mz6Og75SY_"
      },
      "outputs": [],
      "source": [
        "def main_func_call(path):\n",
        "    input_f = auto_load(path)\n",
        "    final_text = doc_to_text(input_f)\n",
        "    return final_text"
      ]
    },
    {
      "cell_type": "markdown",
      "source": [
        "**input_folder** stores the path of the input folder."
      ],
      "metadata": {
        "id": "rnRr5tzQpcD6"
      }
    },
    {
      "cell_type": "code",
      "execution_count": 8,
      "metadata": {
        "colab": {
          "base_uri": "https://localhost:8080/"
        },
        "id": "cn6EaXxzUOwp",
        "outputId": "cc2d70af-b52b-458f-a78d-dfce6b811693"
      },
      "outputs": [
        {
          "name": "stdout",
          "output_type": "stream",
          "text": [
            "Please enter the folder path: /content/drive/MyDrive/Colab_Notebooks1/Practice/SSC_GCA\n"
          ]
        }
      ],
      "source": [
        "\"\"\" \"/content/drive/MyDrive/Colab_Notebooks1/Practice/SSC_GCA\" this is my local system path \"\"\"\n",
        "\n",
        "input_folder = str(input(\"Please enter the folder path: \"))"
      ]
    },
    {
      "cell_type": "code",
      "execution_count": 69,
      "metadata": {
        "id": "3pkOo-geWB4J"
      },
      "outputs": [],
      "source": [
        "final_data = main_func_call(input_folder)"
      ]
    },
    {
      "cell_type": "markdown",
      "metadata": {
        "id": "gPQ3WkC4X7kP"
      },
      "source": [
        "**final_data** has a length of 8 documents because the input folder has 8 documents.\n"
      ]
    },
    {
      "cell_type": "code",
      "execution_count": 71,
      "metadata": {
        "colab": {
          "base_uri": "https://localhost:8080/"
        },
        "id": "vzpgvgVkWHnY",
        "outputId": "6cfd2fbc-1638-4537-c511-f095cf524296"
      },
      "outputs": [
        {
          "output_type": "execute_result",
          "data": {
            "text/plain": [
              "8"
            ]
          },
          "metadata": {},
          "execution_count": 71
        }
      ],
      "source": [
        "len(final_data)"
      ]
    },
    {
      "cell_type": "markdown",
      "metadata": {
        "id": "hNYuIbvQX-CY"
      },
      "source": [
        "###Output file: \n",
        "*   final_data ['Artemis_NASA.html'] output shows that the dict has key values pair. The values can be retrived using keys.\n"
      ]
    },
    {
      "cell_type": "code",
      "execution_count": null,
      "metadata": {
        "id": "mi_Vd_Lv7EZ1"
      },
      "outputs": [],
      "source": [
        "final_data['Artemis_NASA.html']"
      ]
    },
    {
      "cell_type": "markdown",
      "source": [
        "This is the final output dict that contains key-value pairs for all the documents."
      ],
      "metadata": {
        "id": "PIDfnlVpqrwy"
      }
    },
    {
      "cell_type": "code",
      "source": [
        "final_data"
      ],
      "metadata": {
        "id": "SNnkEERpL7QM"
      },
      "execution_count": null,
      "outputs": []
    },
    {
      "cell_type": "code",
      "source": [
        "filename= '/content/drive/MyDrive/Colab_Notebooks1/Practice/SSC_GCA/pickled_data'\n",
        "outfile= open(filename, 'wb')"
      ],
      "metadata": {
        "id": "rqGzZJ0CMP77"
      },
      "execution_count": 88,
      "outputs": []
    },
    {
      "cell_type": "code",
      "source": [
        "pickle.dump(final_data, outfile)\n",
        "outfile.close()"
      ],
      "metadata": {
        "id": "byEz51THuMz5"
      },
      "execution_count": 89,
      "outputs": []
    },
    {
      "cell_type": "code",
      "source": [
        ""
      ],
      "metadata": {
        "id": "i7yy7bEbuZKo"
      },
      "execution_count": null,
      "outputs": []
    }
  ],
  "metadata": {
    "colab": {
      "collapsed_sections": [],
      "name": "ETL",
      "provenance": []
    },
    "kernelspec": {
      "display_name": "Python 3",
      "name": "python3"
    },
    "language_info": {
      "name": "python"
    }
  },
  "nbformat": 4,
  "nbformat_minor": 0
}